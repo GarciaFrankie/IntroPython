{
 "cells": [
  {
   "cell_type": "markdown",
   "metadata": {},
   "source": [
    "# Using Uniform Manifold Approximation and Projection (UMAP) to Differentiate Subsets of Gene Populations\n",
    "#### In this Jupyter Notebook, we will be following the standard setup for a UMAP environment as well as perform a UMAP analysis on an example data set.\n",
    "***"
   ]
  },
  {
   "cell_type": "markdown",
   "metadata": {},
   "source": [
    "### Import Tools for UMAP: "
   ]
  },
  {
   "cell_type": "code",
   "execution_count": null,
   "metadata": {},
   "outputs": [],
   "source": [
    "import numpy as np\n",
    "from sklearn.datasets import load_digits\n",
    "from sklearn.model_selection import train_test_split\n",
    "from sklearn.preprocessing import StandardScaler\n",
    "import matplotlib.pyplot as plt\n",
    "import seaborn as sns\n",
    "import pandas as pd\n",
    "%matplotlib inline"
   ]
  },
  {
   "cell_type": "markdown",
   "metadata": {},
   "source": [
    "The main tools for UMAP are those that we have already seen in class - numpy, seaborn, and pandas. It's cool to see the content we're taught in class used for these sorts of high-level analyses! Without all of these packages installed, the UMAP package won't be able to run! \n",
    "\n",
    "The sklearn packages are also required to run UMAP, they are used primarily in the preprocessing of the data.\n",
    "***"
   ]
  },
  {
   "cell_type": "markdown",
   "metadata": {},
   "source": [
    "### Import UMAP:"
   ]
  },
  {
   "cell_type": "code",
   "execution_count": null,
   "metadata": {},
   "outputs": [],
   "source": [
    "import umap"
   ]
  },
  {
   "cell_type": "markdown",
   "metadata": {},
   "source": [
    "We also need to make sure that the conda environment has the UMAP package installed, to do this - go to your terminal and do:\n",
    "```\n",
    "source activate <conda environment/kernel>\n",
    "conda install -c conda-forge umap-learn\n",
    "```\n",
    "***"
   ]
  },
  {
   "cell_type": "markdown",
   "metadata": {},
   "source": [
    "### Read the Data File:"
   ]
  },
  {
   "cell_type": "code",
   "execution_count": null,
   "metadata": {},
   "outputs": [],
   "source": [
    "genes = pd.read_excel(\"/Users/frankiegarcia/Library/CloudStorage/OneDrive-Personal/Documents/Columbia/Classes/fall2022/python/IntroPython/coding_project/cluster_data.xlsx\")\n",
    "genes.head()"
   ]
  },
  {
   "cell_type": "markdown",
   "metadata": {},
   "source": [
    "To read an excel file of this size, be sure to have the package openpyxl installed into your conda environment. This data was obtained from https://urldefense.proofpoint.com/v2/url?u=https-3A__www.pnas.org_doi_full_10.1073_pnas.1525528113-23supplementary-2Dmaterials&d=DwMFaQ&c=009klHSCxuh5AI1vNQzSO0KGjl4nbi2Q0M1QLJX9BeE&r=Rcq6m0mNl15PREInDil6wDm9Uog9ancwqCXkec89isU&m=W0cciBNqu_eiooohvkiHHWtOqoY_fy_ZQ2o6oTlUpXfHovnGE5RhwXlV9g1HKR4x&s=UFwn8wloh3KuQSBpj49Uuec8yRejNnKiFcedaWwsMU4&e="
   ]
  },
  {
   "cell_type": "markdown",
   "metadata": {},
   "source": [
    "***"
   ]
  },
  {
   "cell_type": "markdown",
   "metadata": {},
   "source": [
    "### Processing the Data File:"
   ]
  },
  {
   "cell_type": "code",
   "execution_count": null,
   "metadata": {},
   "outputs": [],
   "source": [
    "genes = genes.dropna()\n",
    "cluster_count = genes.clusterID.value_counts() #keep in mind the 'clusterID' portion - this is somewhat of an index for the UMAP dataset\n",
    "cluster_count\n",
    "\n",
    "if type(clusterID) == float:\n",
    "    raise TypeError(\"floats not allowed\")"
   ]
  },
  {
   "cell_type": "markdown",
   "metadata": {},
   "source": [
    "Here, we start by doing a blanket line of code to get rid of any NaN values that could potentially be in the data set. I then check the amount of genes associated with each cluster."
   ]
  },
  {
   "cell_type": "code",
   "execution_count": null,
   "metadata": {},
   "outputs": [],
   "source": [
    "reducer = umap.UMAP(random_state=42) #this reduces the dimensionality of the dataset to something comprehensive in 2D\n",
    "gene_data = genes[\n",
    "    [\n",
    "        \"E17MG\",\n",
    "        \"P7nMG\",\n",
    "        \"P7pMG\",\n",
    "        \"P14MG\",\n",
    "        \"P21MG\",\n",
    "        \"P60MG\",\n",
    "        \"LPSMG\",\n",
    "        \"E17MY.\",\n",
    "        \"P21MY\",\n",
    "        \"P60MY\",\n",
    "        \"SZMGMP\",\n",
    "        \"E17WB.\",\n",
    "        \"P7WB.\",\n",
    "        \"P21WB.\",\n",
    "        \"P60WB\",\n",
    "        \"E17LivMY.\"\n",
    "    ]\n",
    "].values #selecting the groups that will be analyzed for clustering \n",
    "reducer.fit(gene_data) #fitting the data to the UMAP package"
   ]
  },
  {
   "cell_type": "markdown",
   "metadata": {},
   "source": [
    "In this set of Processing, we are selecting the columns that we want to analyze using the UMAP software. The way UMAP reduces dimensionality is included in the package notes. From what I understand, we are training the UMAP software by giving a z-score to the different parameters/columns and clustering them that way. We are using the Standard Scaler that we imported from the SciKit. By reducing the dimensionality, and processing the data - we will be able to grasp multiple planes of information from a 2D representation!"
   ]
  },
  {
   "cell_type": "code",
   "execution_count": null,
   "metadata": {},
   "outputs": [],
   "source": [
    "embedding = reducer.transform(gene_data)\n",
    "assert(np.all(embedding == reducer.embedding_)) #embedding helps us graph the UMAP clustering\n",
    "embedding.shape"
   ]
  },
  {
   "cell_type": "markdown",
   "metadata": {},
   "source": [
    "Embedding is the process of taking that reduced dimension and trained matrix and storing it so that it can be plotted using UMAP.\n",
    "***"
   ]
  },
  {
   "cell_type": "markdown",
   "metadata": {},
   "source": [
    "### Creating and Exporting your UMAP Representation:"
   ]
  },
  {
   "cell_type": "code",
   "execution_count": null,
   "metadata": {},
   "outputs": [],
   "source": [
    "sns.set(style='white', context='notebook', rc={'figure.figsize':(14,10)})\n",
    "\n",
    "plt.scatter(embedding[:, 0], embedding[:, 1], c=genes.clusterID, cmap='Spectral', s=5) #customizing the graph aesthetics\n",
    "plt.gca().set_aspect('equal', 'datalim')\n",
    "plt.title('UMAP Projection of the Gene Dataset', fontsize=24);\n",
    "plt.savefig('UMAP.png', bbox_inches = 'tight')"
   ]
  },
  {
   "cell_type": "markdown",
   "metadata": {},
   "source": [
    "This is the graph generated by using the UMAP package. It is supposed to differentiate between population subsets... if successful!\n",
    "***"
   ]
  }
 ],
 "metadata": {
  "kernelspec": {
   "display_name": "Python 3.10.4 ('intropython')",
   "language": "python",
   "name": "python3"
  },
  "language_info": {
   "codemirror_mode": {
    "name": "ipython",
    "version": 3
   },
   "file_extension": ".py",
   "mimetype": "text/x-python",
   "name": "python",
   "nbconvert_exporter": "python",
   "pygments_lexer": "ipython3",
   "version": "3.10.4"
  },
  "orig_nbformat": 4,
  "vscode": {
   "interpreter": {
    "hash": "07e274b78b9203cb994296b7d464704c6e3bf7197bfe208adf885c27e7cbcf3c"
   }
  }
 },
 "nbformat": 4,
 "nbformat_minor": 2
}
