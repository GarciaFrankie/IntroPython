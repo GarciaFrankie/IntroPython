{
 "cells": [
  {
   "cell_type": "markdown",
   "metadata": {},
   "source": [
    "# Using Uniform Manifold Approximation and Projection (UMAP) to Differentiate Subset Populations\n",
    "#### In this Jupyter Notebook, we will be following the standard setup for a UMAP environment as well as perform a UMAP analysis on an example data set.\n",
    "***"
   ]
  },
  {
   "cell_type": "markdown",
   "metadata": {},
   "source": [
    "#### Import Tools for UMAP: "
   ]
  },
  {
   "cell_type": "code",
   "execution_count": 1,
   "metadata": {},
   "outputs": [],
   "source": [
    "import numpy as np\n",
    "from sklearn.datasets import load_digits\n",
    "from sklearn.model_selection import train_test_split\n",
    "from sklearn.preprocessing import StandardScaler\n",
    "import matplotlib.pyplot as plt\n",
    "import seaborn as sns\n",
    "import pandas as pd\n",
    "%matplotlib inline"
   ]
  },
  {
   "cell_type": "markdown",
   "metadata": {},
   "source": [
    "The main tools for UMAP are those that we have already seen in class - numpy, seaborn, and pandas. It's cool to see the content we're taught in class used for these sorts of high-level analyses! Without all of these packages installed, the UMAP package won't be able to run! \n",
    "\n",
    "The sklearn packages are also required to run UMAP, they are used primarily in the preprocessing of the data.\n",
    "\n",
    "We also need to make sure that the conda environment has the UMAP package installed, to do this - go to your terminal and do:\n",
    "```\n",
    "source activate <conda environment/kernel>\n",
    "conda install -c conda-forge umap-learn\n",
    "```"
   ]
  },
  {
   "cell_type": "markdown",
   "metadata": {},
   "source": []
  }
 ],
 "metadata": {
  "kernelspec": {
   "display_name": "Python 3.10.4 ('intropython')",
   "language": "python",
   "name": "python3"
  },
  "language_info": {
   "codemirror_mode": {
    "name": "ipython",
    "version": 3
   },
   "file_extension": ".py",
   "mimetype": "text/x-python",
   "name": "python",
   "nbconvert_exporter": "python",
   "pygments_lexer": "ipython3",
   "version": "3.10.4"
  },
  "orig_nbformat": 4,
  "vscode": {
   "interpreter": {
    "hash": "07e274b78b9203cb994296b7d464704c6e3bf7197bfe208adf885c27e7cbcf3c"
   }
  }
 },
 "nbformat": 4,
 "nbformat_minor": 2
}
